{
 "cells": [
  {
   "cell_type": "code",
   "execution_count": 1,
   "metadata": {},
   "outputs": [],
   "source": [
    "%matplotlib inline"
   ]
  },
  {
   "cell_type": "code",
   "execution_count": 2,
   "metadata": {},
   "outputs": [
    {
     "name": "stderr",
     "output_type": "stream",
     "text": [
      "C:\\Users\\Davide\\Anaconda3\\lib\\site-packages\\h5py\\__init__.py:36: FutureWarning: Conversion of the second argument of issubdtype from `float` to `np.floating` is deprecated. In future, it will be treated as `np.float64 == np.dtype(float).type`.\n",
      "  from ._conv import register_converters as _register_converters\n"
     ]
    }
   ],
   "source": [
    "import numpy as np\n",
    "import matplotlib.pyplot as plt \n",
    "import h5py\n",
    "import scipy\n",
    "from PIL import Image\n",
    "from scipy import ndimage"
   ]
  },
  {
   "cell_type": "code",
   "execution_count": 3,
   "metadata": {},
   "outputs": [],
   "source": [
    "def load_dataset():\n",
    "    train_dataset = h5py.File('datasets/train_catvnoncat.h5', \"r\")\n",
    "    train_set_x_orig = np.array(train_dataset[\"train_set_x\"][:]) # your train set features\n",
    "    train_set_y_orig = np.array(train_dataset[\"train_set_y\"][:]) # your train set labels\n",
    "\n",
    "    test_dataset = h5py.File('datasets/test_catvnoncat.h5', \"r\")\n",
    "    test_set_x_orig = np.array(test_dataset[\"test_set_x\"][:]) # your test set features\n",
    "    test_set_y_orig = np.array(test_dataset[\"test_set_y\"][:]) # your test set labels\n",
    "\n",
    "    classes = np.array(test_dataset[\"list_classes\"][:]) # the list of classes\n",
    "    \n",
    "    train_set_y_orig = train_set_y_orig.reshape((1, train_set_y_orig.shape[0]))\n",
    "    test_set_y_orig = test_set_y_orig.reshape((1, test_set_y_orig.shape[0]))\n",
    "    \n",
    "    return train_set_x_orig, train_set_y_orig, test_set_x_orig, test_set_y_orig, classes"
   ]
  },
  {
   "cell_type": "code",
   "execution_count": 4,
   "metadata": {},
   "outputs": [],
   "source": [
    "train_set_x_orig, train_set_y, test_set_x_orig, test_set_y, classes = load_dataset()"
   ]
  },
  {
   "cell_type": "markdown",
   "metadata": {},
   "source": [
    "# Print out a training example"
   ]
  },
  {
   "cell_type": "code",
   "execution_count": 5,
   "metadata": {},
   "outputs": [
    {
     "name": "stdout",
     "output_type": "stream",
     "text": [
      "[[0 0 1 0 0 0 0 1 0 0 0 1 0 1 1 0 0 0 0 1 0 0 0 0 1 1 0 1 0 1 0 0 0 0 0 0\n",
      "  0 0 1 0 0 1 1 0 0 0 0 1 0 0 1 0 0 0 1 0 1 1 0 1 1 1 0 0 0 0 0 0 1 0 0 1\n",
      "  0 0 0 0 0 0 0 0 0 0 0 1 1 0 0 0 1 0 0 0 1 1 1 0 0 1 0 0 0 0 1 0 1 0 1 1\n",
      "  1 1 1 1 0 0 0 0 0 1 0 0 0 1 0 0 1 0 1 0 1 1 0 0 0 1 1 1 1 1 0 0 0 0 1 0\n",
      "  1 1 1 0 1 1 0 0 0 1 0 0 1 0 0 0 0 0 1 0 1 0 1 0 0 1 1 1 0 0 1 1 0 1 0 1\n",
      "  0 0 0 0 0 1 0 0 1 0 0 0 1 0 0 0 0 1 0 0 1 0 0 0 0 0 0 0 0]]\n",
      "\n",
      "[0]\n",
      "\n",
      "0\n",
      "\n",
      "non-cat\n"
     ]
    }
   ],
   "source": [
    "print(train_set_y)\n",
    "\n",
    "# To access to a single label\n",
    "k = 0 # First example's label\n",
    "\n",
    "print()\n",
    "print(train_set_y[:, k])\n",
    "\n",
    "# To use the label\n",
    "print()\n",
    "print(np.squeeze(train_set_y[:, k]))\n",
    "\n",
    "# To get the human-readable label\n",
    "print()\n",
    "print(classes[np.squeeze(train_set_y[:, k])].decode('utf-8'))"
   ]
  },
  {
   "cell_type": "code",
   "execution_count": 6,
   "metadata": {},
   "outputs": [],
   "source": [
    "def print_example(k):\n",
    "    print(train_set_x_orig[k])\n",
    "    print()\n",
    "    print(classes[np.squeeze(train_set_y[:, k])].decode('utf-8'))\n",
    "    plt.imshow(train_set_x_orig[k]) "
   ]
  },
  {
   "cell_type": "markdown",
   "metadata": {},
   "source": [
    "## Positive example (cat)"
   ]
  },
  {
   "cell_type": "code",
   "execution_count": 7,
   "metadata": {},
   "outputs": [
    {
     "name": "stdout",
     "output_type": "stream",
     "text": [
      "[[[ 82  71  68]\n",
      "  [ 89  83  83]\n",
      "  [100  98 104]\n",
      "  ...\n",
      "  [131 132 137]\n",
      "  [126 124 124]\n",
      "  [105  97  95]]\n",
      "\n",
      " [[ 95  91  97]\n",
      "  [104 104 113]\n",
      "  [110 115 126]\n",
      "  ...\n",
      "  [135 134 135]\n",
      "  [127 122 119]\n",
      "  [111 105 103]]\n",
      "\n",
      " [[ 94  85  83]\n",
      "  [ 97  89  90]\n",
      "  [110 109 115]\n",
      "  ...\n",
      "  [136 134 131]\n",
      "  [127 120 117]\n",
      "  [116 108 104]]\n",
      "\n",
      " ...\n",
      "\n",
      " [[ 96 116 131]\n",
      "  [ 97 115 130]\n",
      "  [103 123 139]\n",
      "  ...\n",
      "  [152 155 157]\n",
      "  [146 149 152]\n",
      "  [130 133 134]]\n",
      "\n",
      " [[ 90 108 123]\n",
      "  [ 92 108 121]\n",
      "  [100 119 134]\n",
      "  ...\n",
      "  [150 152 155]\n",
      "  [144 146 147]\n",
      "  [134 135 134]]\n",
      "\n",
      " [[ 86 102 116]\n",
      "  [ 87 103 115]\n",
      "  [ 94 114 127]\n",
      "  ...\n",
      "  [154 156 160]\n",
      "  [146 148 152]\n",
      "  [138 141 142]]]\n",
      "\n",
      "cat\n"
     ]
    },
    {
     "data": {
      "image/png": "[encoded data removed]",
      "text/plain": [
       "<Figure size 432x288 with 1 Axes>"
      ]
     },
     "metadata": {},
     "output_type": "display_data"
    }
   ],
   "source": [
    "print_example(2)"
   ]
  },
  {
   "cell_type": "markdown",
   "metadata": {},
   "source": [
    "## Negative example (non-cat)"
   ]
  },
  {
   "cell_type": "code",
   "execution_count": 8,
   "metadata": {},
   "outputs": [
    {
     "name": "stdout",
     "output_type": "stream",
     "text": [
      "[[[17 31 56]\n",
      "  [22 33 59]\n",
      "  [25 35 62]\n",
      "  ...\n",
      "  [ 1 28 57]\n",
      "  [ 1 26 56]\n",
      "  [ 1 22 51]]\n",
      "\n",
      " [[25 36 62]\n",
      "  [28 38 64]\n",
      "  [30 40 67]\n",
      "  ...\n",
      "  [ 1 27 56]\n",
      "  [ 1 25 55]\n",
      "  [ 2 21 51]]\n",
      "\n",
      " [[32 40 67]\n",
      "  [34 42 69]\n",
      "  [35 42 70]\n",
      "  ...\n",
      "  [ 1 25 55]\n",
      "  [ 0 24 54]\n",
      "  [ 1 21 51]]\n",
      "\n",
      " ...\n",
      "\n",
      " [[ 0  0  0]\n",
      "  [ 0  0  0]\n",
      "  [ 0  0  0]\n",
      "  ...\n",
      "  [ 0  0  0]\n",
      "  [ 0  0  0]\n",
      "  [ 0  0  0]]\n",
      "\n",
      " [[ 0  0  0]\n",
      "  [ 0  0  0]\n",
      "  [ 0  0  0]\n",
      "  ...\n",
      "  [ 0  0  0]\n",
      "  [ 0  0  0]\n",
      "  [ 0  0  0]]\n",
      "\n",
      " [[ 0  0  0]\n",
      "  [ 0  0  0]\n",
      "  [ 0  0  0]\n",
      "  ...\n",
      "  [ 0  0  0]\n",
      "  [ 0  0  0]\n",
      "  [ 0  0  0]]]\n",
      "\n",
      "non-cat\n"
     ]
    },
    {
     "data": {
      "image/png": "[encoded data removed]",
      "text/plain": [
       "<Figure size 432x288 with 1 Axes>"
      ]
     },
     "metadata": {},
     "output_type": "display_data"
    }
   ],
   "source": [
    "print_example(0)"
   ]
  },
  {
   "cell_type": "code",
   "execution_count": 9,
   "metadata": {},
   "outputs": [],
   "source": [
    "m_train = train_set_y.shape[1]\n",
    "m_test = test_set_y.shape[1]\n",
    "num_px = train_set_x_orig.shape[1]"
   ]
  },
  {
   "cell_type": "code",
   "execution_count": 10,
   "metadata": {},
   "outputs": [
    {
     "name": "stdout",
     "output_type": "stream",
     "text": [
      "Number of training examples m_train:209\n",
      "Number of testing examples m_test:50\n",
      "Height x Width of each image num_px:64\n",
      "Each image is of size: (64, 64, 3\n",
      "train_set_x_orig shape: (209, 64, 64, 3)\n",
      "train_set_y shape: (1, 209)\n",
      "test_set_x_orig shape: (50, 64, 64, 3)\n",
      "test_set_y shape: (1, 50)\n"
     ]
    }
   ],
   "source": [
    "print(\"Number of training examples m_train:\" + str(m_train))\n",
    "print(\"Number of testing examples m_test:\" + str(m_test))\n",
    "print(\"Height x Width of each image num_px:\" + str(num_px))\n",
    "print(\"Each image is of size: (\" + str(num_px) + \", \" + str(num_px) + \", 3\")\n",
    "print(\"train_set_x_orig shape: \" + str(train_set_x_orig.shape))\n",
    "print(\"train_set_y shape: \" + str(train_set_y.shape))\n",
    "print(\"test_set_x_orig shape: \" + str(test_set_x_orig.shape))\n",
    "print(\"test_set_y shape: \" + str(test_set_y.shape))"
   ]
  },
  {
   "cell_type": "markdown",
   "metadata": {},
   "source": [
    "# Flatten training and test sets"
   ]
  },
  {
   "cell_type": "code",
   "execution_count": 11,
   "metadata": {},
   "outputs": [],
   "source": [
    "train_set_x_flatten = train_set_x_orig.reshape(train_set_x_orig.shape[0], -1).T\n",
    "test_set_x_flatten = test_set_x_orig.reshape(test_set_x_orig.shape[0], -1).T"
   ]
  },
  {
   "cell_type": "code",
   "execution_count": 12,
   "metadata": {},
   "outputs": [
    {
     "name": "stdout",
     "output_type": "stream",
     "text": [
      "train_set_x_flatten shape: (12288, 209)\n",
      "train_set_y shape: (1, 209)\n",
      "test_set_x_flatten shape: (12288, 50)\n",
      "test_set_y shape: (1, 50)\n",
      "sanity check after reshaping: [17 31 56 22 33]\n"
     ]
    }
   ],
   "source": [
    "print(\"train_set_x_flatten shape: \" + str(train_set_x_flatten.shape))\n",
    "print(\"train_set_y shape: \" + str(train_set_y.shape))\n",
    "print(\"test_set_x_flatten shape: \" + str(test_set_x_flatten.shape))\n",
    "print(\"test_set_y shape: \" + str(test_set_y.shape))\n",
    "print (\"sanity check after reshaping: \" + str(train_set_x_flatten[0:5,0]))"
   ]
  },
  {
   "cell_type": "code",
   "execution_count": 13,
   "metadata": {},
   "outputs": [],
   "source": [
    "# Normalize training and test sets"
   ]
  },
  {
   "cell_type": "code",
   "execution_count": 14,
   "metadata": {},
   "outputs": [],
   "source": [
    "train_set_x = train_set_x_flatten/255\n",
    "test_set_x = test_set_x_flatten/255"
   ]
  },
  {
   "cell_type": "code",
   "execution_count": 15,
   "metadata": {},
   "outputs": [],
   "source": [
    "def sigmoid(z):\n",
    "    s = 1/(1 + np.exp(-z))\n",
    "    return s"
   ]
  },
  {
   "cell_type": "code",
   "execution_count": 16,
   "metadata": {},
   "outputs": [
    {
     "name": "stdout",
     "output_type": "stream",
     "text": [
      "0.5\n",
      "0.9998989708060922\n"
     ]
    }
   ],
   "source": [
    "# Test\n",
    "print(sigmoid(0))\n",
    "print(sigmoid(9.2))"
   ]
  },
  {
   "cell_type": "code",
   "execution_count": 17,
   "metadata": {},
   "outputs": [],
   "source": [
    "def initialize_with_zeros(dim):\n",
    "    \n",
    "    w = np.zeros(shape = (dim, 1))\n",
    "    b = 0\n",
    "    \n",
    "    return w, b"
   ]
  },
  {
   "cell_type": "code",
   "execution_count": 18,
   "metadata": {},
   "outputs": [
    {
     "name": "stdout",
     "output_type": "stream",
     "text": [
      "[[0.]\n",
      " [0.]]\n",
      "0\n"
     ]
    }
   ],
   "source": [
    "# Test\n",
    "dim = 2\n",
    "w, b = initialize_with_zeros(dim)\n",
    "\n",
    "print(w)\n",
    "print(b)"
   ]
  },
  {
   "cell_type": "code",
   "execution_count": 19,
   "metadata": {},
   "outputs": [],
   "source": [
    "def propagate(w, b, X, Y):\n",
    "    \n",
    "    m = X.shape[1]\n",
    "    \n",
    "    # Fwd\n",
    "    A = sigmoid(np.dot(w.T, X) + b)\n",
    "    cost = -1/m * np.sum(Y * np.log(A) + (1 - Y)*(np.log(1 - A)))\n",
    "    \n",
    "    # Bwd\n",
    "    dw = 1/m * np.dot(X, (A - Y).T)\n",
    "    db = 1/m * np.sum(A - Y)\n",
    "    \n",
    "    cost = np.squeeze(cost)\n",
    "    \n",
    "    grads = {'dw': dw, 'db':db }\n",
    "    \n",
    "    return grads, cost"
   ]
  },
  {
   "cell_type": "code",
   "execution_count": 20,
   "metadata": {},
   "outputs": [
    {
     "name": "stdout",
     "output_type": "stream",
     "text": [
      "dw = [[0.99993216]\n",
      " [1.99980262]]\n",
      "db = 0.49993523062470574\n",
      "cost = 6.000064773192205\n"
     ]
    }
   ],
   "source": [
    "# Test\n",
    "w, b, X, Y = np.array([[1], [2]]), 2, np.array([[1,2], [3,4]]), np.array([[1, 0]])\n",
    "grads, cost = propagate(w, b, X, Y)\n",
    "print (\"dw = \" + str(grads[\"dw\"]))\n",
    "print (\"db = \" + str(grads[\"db\"]))\n",
    "print (\"cost = \" + str(cost))"
   ]
  },
  {
   "cell_type": "code",
   "execution_count": 21,
   "metadata": {},
   "outputs": [],
   "source": [
    "def optimize(w, b, X, Y, num_iterations, learning_rate, print_cost = False):\n",
    "    \n",
    "    costs = []\n",
    "    \n",
    "    for i in range(num_iterations):\n",
    "        \n",
    "        grads, cost = propagate(w, b, X, Y)\n",
    "        dw = grads['dw']\n",
    "        db = grads['db']\n",
    "\n",
    "        # Update rule\n",
    "        w = w - learning_rate*dw\n",
    "        b = b - learning_rate*db\n",
    "        \n",
    "        if i % 100 == 0:\n",
    "            costs.append(cost)\n",
    "            \n",
    "        if print_cost and i % 100 == 0:\n",
    "            print(\"Iteration: \" + str(i) + \", cost: \" + str(cost))\n",
    "            \n",
    "    params = { 'w': w, 'b': b}\n",
    "    grads = {'dw': dw, 'db': db}\n",
    "    return params, grads, costs"
   ]
  },
  {
   "cell_type": "code",
   "execution_count": 22,
   "metadata": {},
   "outputs": [
    {
     "name": "stdout",
     "output_type": "stream",
     "text": [
      "w = [[0.1124579 ]\n",
      " [0.23106775]]\n",
      "b = 1.5593049248448891\n",
      "dw = [[0.90158428]\n",
      " [1.76250842]]\n",
      "db = 0.4304620716786828\n"
     ]
    }
   ],
   "source": [
    "# Test\n",
    "params, grads, costs = optimize(w, b, X, Y, num_iterations= 100, learning_rate = 0.009, print_cost = False)\n",
    "\n",
    "print (\"w = \" + str(params[\"w\"]))\n",
    "print (\"b = \" + str(params[\"b\"]))\n",
    "print (\"dw = \" + str(grads[\"dw\"]))\n",
    "print (\"db = \" + str(grads[\"db\"]))"
   ]
  },
  {
   "cell_type": "code",
   "execution_count": 23,
   "metadata": {},
   "outputs": [],
   "source": [
    "def predict(w, b, X):\n",
    "        \n",
    "    m = X.shape[1]\n",
    "    Y_prediction = np.zeros((1, m))\n",
    "    w = w.reshape(X.shape[0], 1)\n",
    "\n",
    "    A = sigmoid(np.dot(w.T, X) + b)\n",
    "        \n",
    "    for i in range(A.shape[1]):\n",
    "        Y_prediction[0, i] = 1 if A[0, i] > 0.5 else 0\n",
    "        \n",
    "    return Y_prediction"
   ]
  },
  {
   "cell_type": "code",
   "execution_count": 24,
   "metadata": {},
   "outputs": [
    {
     "name": "stdout",
     "output_type": "stream",
     "text": [
      "predictions = [[1. 1.]]\n"
     ]
    }
   ],
   "source": [
    "# Test\n",
    "print(\"predictions = \" + str(predict(w, b, X)))"
   ]
  },
  {
   "cell_type": "markdown",
   "metadata": {},
   "source": [
    "## Model training"
   ]
  },
  {
   "cell_type": "code",
   "execution_count": 25,
   "metadata": {},
   "outputs": [],
   "source": [
    "def model(X_train, Y_train, X_test, Y_test, num_iterations = 1000, learning_rate = 0.5, print_costs = False):\n",
    "    \n",
    "    w, b = initialize_with_zeros(X_train.shape[0])\n",
    "    \n",
    "    # Gradient descent\n",
    "    parameters, grads, costs = optimize(w, b, X_train, Y_train, num_iterations, learning_rate, print_costs)\n",
    "    \n",
    "    w = parameters['w']\n",
    "    b = parameters['b']\n",
    "    \n",
    "    # Prediction\n",
    "    Y_prediction_test = predict(w, b, X_test)\n",
    "    Y_prediction_train = predict(w, b, X_train)\n",
    "    \n",
    "    # Measures\n",
    "    train_accuracy = np.mean(np.abs(Y_prediction_train - Y_train))\n",
    "    test_accuracy = np.mean(np.abs(Y_prediction_test - Y_test))\n",
    "    \n",
    "    print()\n",
    "    print(\"train accuracy: {} %\".format(100 - train_accuracy * 100))\n",
    "    print(\"test accuracy: {} %\".format(100 - test_accuracy * 100))\n",
    "    print()\n",
    "    \n",
    "    #\n",
    "    model = { 'costs':costs,\n",
    "              'Y_prediction_test':Y_prediction_test, 'Y_prediction_train':Y_prediction_train,\n",
    "              'w':w, 'b':b,\n",
    "              'learning_rate':learning_rate, 'num_iterations':num_iterations,\n",
    "              'train_accuracy':(100 - train_accuracy*100), 'test_accuracy':(100 - test_accuracy*100)\n",
    "            }\n",
    "    \n",
    "    return model"
   ]
  },
  {
   "cell_type": "code",
   "execution_count": 26,
   "metadata": {},
   "outputs": [
    {
     "name": "stdout",
     "output_type": "stream",
     "text": [
      "Iteration: 0, cost: 0.6931471805599453\n",
      "Iteration: 100, cost: 0.5845083636993085\n",
      "Iteration: 200, cost: 0.4669490409465547\n",
      "Iteration: 300, cost: 0.37600686694802077\n",
      "Iteration: 400, cost: 0.3314632893282512\n",
      "Iteration: 500, cost: 0.3032730674743828\n",
      "Iteration: 600, cost: 0.27987958658260487\n",
      "Iteration: 700, cost: 0.2600421369258757\n",
      "Iteration: 800, cost: 0.2429406846779662\n",
      "Iteration: 900, cost: 0.22800422256726066\n",
      "Iteration: 1000, cost: 0.21481951378449646\n",
      "Iteration: 1100, cost: 0.2030781906064499\n",
      "Iteration: 1200, cost: 0.19254427716706862\n",
      "Iteration: 1300, cost: 0.18303333796883514\n",
      "Iteration: 1400, cost: 0.1743985943844888\n",
      "Iteration: 1500, cost: 0.16652139705400335\n",
      "Iteration: 1600, cost: 0.1593045182975662\n",
      "Iteration: 1700, cost: 0.15266732471296512\n",
      "Iteration: 1800, cost: 0.14654223503982333\n",
      "Iteration: 1900, cost: 0.14087207570310165\n",
      "\n",
      "train accuracy: 99.04306220095694 %\n",
      "test accuracy: 70.0 %\n",
      "\n"
     ]
    }
   ],
   "source": [
    "nn_model = model(train_set_x, train_set_y, test_set_x, test_set_y, num_iterations = 2000, learning_rate = 0.005, print_costs = True)"
   ]
  },
  {
   "cell_type": "code",
   "execution_count": 27,
   "metadata": {
    "scrolled": true
   },
   "outputs": [
    {
     "data": {
      "image/png": "[encoded data removed]",
      "text/plain": [
       "<Figure size 432x288 with 1 Axes>"
      ]
     },
     "metadata": {},
     "output_type": "display_data"
    }
   ],
   "source": [
    "costs = np.squeeze(nn_model['costs'])\n",
    "plt.plot(costs)\n",
    "plt.ylabel(\"Cost\")\n",
    "plt.ylabel(\"Iterations (x 100)\")\n",
    "plt.title(\"Learning rate: \" + str(nn_model['learning_rate']))\n",
    "plt.show()"
   ]
  },
  {
   "cell_type": "markdown",
   "metadata": {},
   "source": [
    "# Testing different Learning rates"
   ]
  },
  {
   "cell_type": "code",
   "execution_count": 28,
   "metadata": {},
   "outputs": [
    {
     "name": "stdout",
     "output_type": "stream",
     "text": [
      "-------------------------------------------\n",
      "Learning rate: 0.01\n",
      "\n",
      "train accuracy: 99.52153110047847 %\n",
      "test accuracy: 68.0 %\n",
      "\n",
      "-------------------------------------------\n",
      "Learning rate: 0.001\n",
      "\n",
      "train accuracy: 88.99521531100478 %\n",
      "test accuracy: 64.0 %\n",
      "\n",
      "-------------------------------------------\n",
      "Learning rate: 0.0001\n",
      "\n",
      "train accuracy: 68.42105263157895 %\n",
      "test accuracy: 36.0 %\n",
      "\n"
     ]
    }
   ],
   "source": [
    "learning_rates = [0.01, 0.001, 0.0001]\n",
    "models = {}\n",
    "for alpha in learning_rates:\n",
    "    print('-------------------------------------------')\n",
    "    print(\"Learning rate: \" + str(alpha))\n",
    "    models[str(alpha)] = model(train_set_x, train_set_y, test_set_x, test_set_y, num_iterations = 1500, learning_rate = alpha, print_costs = False)"
   ]
  },
  {
   "cell_type": "markdown",
   "metadata": {},
   "source": [
    "## Cost vs Number of iterations, parametrized by Learning rate"
   ]
  },
  {
   "cell_type": "code",
   "execution_count": 29,
   "metadata": {},
   "outputs": [
    {
     "data": {
      "image/png": "[encoded data removed]",
      "text/plain": [
       "<Figure size 432x288 with 1 Axes>"
      ]
     },
     "metadata": {},
     "output_type": "display_data"
    }
   ],
   "source": [
    "for alpha in learning_rates:\n",
    "    plt.plot(np.squeeze(models[str(alpha)]['costs']), label = str(models[str(alpha)][\"learning_rate\"]))\n",
    "    \n",
    "plt.xlabel(\"Iterations (x 100)\")\n",
    "plt.ylabel(\"Cost\")\n",
    "plt.xlim(left = 0)\n",
    "\n",
    "legend = plt.legend(loc = \"upper right\", shadow = False)\n",
    "frame = legend.get_frame()\n",
    "frame.set_facecolor(\"0.90\")\n",
    "plt.show()"
   ]
  },
  {
   "cell_type": "markdown",
   "metadata": {},
   "source": [
    "## Train and test accuracies vs Learning rate"
   ]
  },
  {
   "cell_type": "code",
   "execution_count": 42,
   "metadata": {
    "scrolled": true
   },
   "outputs": [
    {
     "data": {
      "image/png": "[encoded data removed]",
      "text/plain": [
       "<Figure size 640x480 with 1 Axes>"
      ]
     },
     "metadata": {},
     "output_type": "display_data"
    }
   ],
   "source": [
    "n_groups = len(learning_rates)\n",
    "train_accuracies = []\n",
    "test_accuracies = []\n",
    "for alpha in learning_rates:\n",
    "    train_accuracies.append(models[str(alpha)]['train_accuracy'])\n",
    "    test_accuracies.append(models[str(alpha)]['test_accuracy'])\n",
    "  \n",
    "\n",
    "fig, ax = plt.subplots()\n",
    "index = np.arange(n_groups)\n",
    "bar_width = 0.35\n",
    "opacity = 0.8\n",
    "rects_train = plt.bar(index, train_accuracies, bar_width, alpha = opacity, color = 'b', label = 'Train accuracy')\n",
    "rect_test = plt.bar(index + bar_width,test_accuracies, bar_width, alpha = opacity, color = 'r', label = 'Test accuracy')\n",
    "\n",
    "plt.xlabel = \"Index\"\n",
    "plt.ylabel = \"score\"\n",
    "plt.title('Train and Test accuracies vs Leaning rates')\n",
    "plt.xticks(index + bar_width, learning_rates)\n",
    "plt.legend()\n",
    "plt.tight_layout()\n",
    "plt.show()"
   ]
  },
  {
   "cell_type": "code",
   "execution_count": null,
   "metadata": {},
   "outputs": [],
   "source": []
  }
 ],
 "metadata": {
  "kernelspec": {
   "display_name": "Python 3",
   "language": "python",
   "name": "python3"
  },
  "language_info": {
   "codemirror_mode": {
    "name": "ipython",
    "version": 3
   },
   "file_extension": ".py",
   "mimetype": "text/x-python",
   "name": "python",
   "nbconvert_exporter": "python",
   "pygments_lexer": "ipython3",
   "version": "3.6.5"
  }
 },
 "nbformat": 4,
 "nbformat_minor": 2
}
